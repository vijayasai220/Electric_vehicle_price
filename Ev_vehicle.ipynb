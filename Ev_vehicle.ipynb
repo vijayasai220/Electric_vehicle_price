{
  "nbformat": 4,
  "nbformat_minor": 0,
  "metadata": {
    "colab": {
      "provenance": []
    },
    "kernelspec": {
      "name": "python3",
      "display_name": "Python 3"
    },
    "language_info": {
      "name": "python"
    }
  },
  "cells": [
    {
      "cell_type": "code",
      "execution_count": null,
      "metadata": {
        "colab": {
          "base_uri": "https://localhost:8080/"
        },
        "id": "G0DVEKciza8o",
        "outputId": "1ecf9c5d-891d-4856-bc9e-db1cebf63dce"
      },
      "outputs": [
        {
          "output_type": "stream",
          "name": "stdout",
          "text": [
            "Dataset Loaded:\n",
            "                                name                    ev_type  \\\n",
            "0                     Opel Ampera-e  Battery Electric Vehicle    \n",
            "1         Renault Kangoo Maxi ZE 33  Battery Electric Vehicle    \n",
            "2                       Nissan Leaf  Battery Electric Vehicle    \n",
            "3  Audi e-tron Sportback 55 quattro  Battery Electric Vehicle    \n",
            "4            Porsche Taycan Turbo S  Battery Electric Vehicle    \n",
            "\n",
            "   battery_capacity  acceleration  top_speed  range  efficiency  \\\n",
            "0              58.0           7.3        150    335         173   \n",
            "1              31.0          22.4        130    160         194   \n",
            "2              36.0           7.9        144    220         164   \n",
            "3              86.5           5.7        200    375         231   \n",
            "4              83.7           2.8        260    390         215   \n",
            "\n",
            "   fast_charge_speed              drive  number_of_seats  price_in_germany  \\\n",
            "0              210.0  Front Wheel Drive                5           42990.0   \n",
            "1                NaN  Front Wheel Drive                5               NaN   \n",
            "2              230.0  Front Wheel Drive                5           29990.0   \n",
            "3              600.0    All Wheel Drive                5               NaN   \n",
            "4              860.0    All Wheel Drive                4          186336.0   \n",
            "\n",
            "   price_in_uk  price_in_us  \n",
            "0          NaN      45999.3  \n",
            "1      31680.0      38016.0  \n",
            "2      25995.0      31194.0  \n",
            "3      79900.0      95880.0  \n",
            "4     138830.0     166596.0  \n"
          ]
        }
      ],
      "source": [
        "# Import necessary libraries\n",
        "import pandas as pd\n",
        "import numpy as np\n",
        "\n",
        "# Load the dataset\n",
        "ev = pd.read_csv(r\"/content/ev_cars_tidy.csv\", header=0)\n",
        "\n",
        "# Back up the original dataset\n",
        "ev_backup = ev.copy()\n",
        "\n",
        "# Display the first few rows\n",
        "print(\"Dataset Loaded:\\n\", ev.head())\n"
      ]
    },
    {
      "cell_type": "code",
      "source": [
        "# Check for missing values\n",
        "print(\"Missing values per column:\\n\", ev.isnull().sum())\n",
        "\n",
        "# Fill missing values\n",
        "numerical_cols = ev.select_dtypes(include=np.number).columns\n",
        "ev[numerical_cols] = ev[numerical_cols].fillna(ev[numerical_cols].mean())\n",
        "\n",
        "for column in ev.select_dtypes(include=['object']).columns:\n",
        "    ev[column] = ev[column].fillna(ev[column].mode()[0])\n",
        "\n",
        "# Verify missing values are handled\n",
        "print(\"\\nMissing values after handling:\\n\", ev.isnull().sum())\n"
      ],
      "metadata": {
        "colab": {
          "base_uri": "https://localhost:8080/"
        },
        "id": "3rinOedzzoUL",
        "outputId": "584ac71e-44f6-43d3-8197-de6a277d2470"
      },
      "execution_count": null,
      "outputs": [
        {
          "output_type": "stream",
          "name": "stdout",
          "text": [
            "Missing values per column:\n",
            " name                  0\n",
            "ev_type               0\n",
            "battery_capacity      0\n",
            "acceleration          0\n",
            "top_speed             0\n",
            "range                 0\n",
            "efficiency            0\n",
            "fast_charge_speed     5\n",
            "drive                 0\n",
            "number_of_seats       0\n",
            "price_in_germany      9\n",
            "price_in_uk          41\n",
            "price_in_us           0\n",
            "dtype: int64\n",
            "\n",
            "Missing values after handling:\n",
            " name                 0\n",
            "ev_type              0\n",
            "battery_capacity     0\n",
            "acceleration         0\n",
            "top_speed            0\n",
            "range                0\n",
            "efficiency           0\n",
            "fast_charge_speed    0\n",
            "drive                0\n",
            "number_of_seats      0\n",
            "price_in_germany     0\n",
            "price_in_uk          0\n",
            "price_in_us          0\n",
            "dtype: int64\n"
          ]
        }
      ]
    },
    {
      "cell_type": "code",
      "source": [
        "from sklearn.preprocessing import LabelEncoder\n",
        "\n",
        "# Encode categorical variables\n",
        "label_encoder = LabelEncoder()\n",
        "for column in ev.select_dtypes(include=['object']).columns:\n",
        "    ev[column] = label_encoder.fit_transform(ev[column])\n",
        "\n",
        "# Verify encoding\n",
        "print(\"\\nEncoded Data:\\n\", ev.head())\n"
      ],
      "metadata": {
        "colab": {
          "base_uri": "https://localhost:8080/"
        },
        "id": "43tKGOa6z5Ie",
        "outputId": "5a30d023-5aec-4385-e19a-e4fee9257bda"
      },
      "execution_count": null,
      "outputs": [
        {
          "output_type": "stream",
          "name": "stdout",
          "text": [
            "\n",
            "Encoded Data:\n",
            "    name  ev_type  battery_capacity  acceleration  top_speed  range  \\\n",
            "0    96        0              58.0           7.3        150    335   \n",
            "1   126        0              31.0          22.4        130    160   \n",
            "2    93        0              36.0           7.9        144    220   \n",
            "3    15        0              86.5           5.7        200    375   \n",
            "4   124        0              83.7           2.8        260    390   \n",
            "\n",
            "   efficiency  fast_charge_speed  drive  number_of_seats  price_in_germany  \\\n",
            "0         173         210.000000      1                5      42990.000000   \n",
            "1         194         485.465116      1                5      58725.386905   \n",
            "2         164         230.000000      1                5      29990.000000   \n",
            "3         231         600.000000      0                5      58725.386905   \n",
            "4         215         860.000000      0                4     186336.000000   \n",
            "\n",
            "     price_in_uk  price_in_us  \n",
            "0   52939.058824      45999.3  \n",
            "1   31680.000000      38016.0  \n",
            "2   25995.000000      31194.0  \n",
            "3   79900.000000      95880.0  \n",
            "4  138830.000000     166596.0  \n"
          ]
        }
      ]
    },
    {
      "cell_type": "code",
      "source": [
        "from sklearn.preprocessing import StandardScaler\n",
        "\n",
        "# Scale numerical columns\n",
        "scaler = StandardScaler()\n",
        "numerical_columns = ev.select_dtypes(include=['float64', 'int64']).columns\n",
        "ev[numerical_columns] = scaler.fit_transform(ev[numerical_columns])\n",
        "\n",
        "# Verify scaling\n",
        "print(\"\\nScaled Data:\\n\", ev.head())\n"
      ],
      "metadata": {
        "colab": {
          "base_uri": "https://localhost:8080/"
        },
        "id": "mLsoLK8nz9dI",
        "outputId": "4092cd33-3f84-4415-e4bc-38f719379746"
      },
      "execution_count": null,
      "outputs": [
        {
          "output_type": "stream",
          "name": "stdout",
          "text": [
            "\n",
            "Scaled Data:\n",
            "        name  ev_type  battery_capacity  acceleration  top_speed     range  \\\n",
            "0  0.241266      0.0         -0.308561     -0.159143  -0.643335 -0.035028   \n",
            "1  0.847859      0.0         -1.394271      4.625341  -1.119282 -1.511199   \n",
            "2  0.180607      0.0         -1.193213      0.030969  -0.786119 -1.005083   \n",
            "3 -1.396535      0.0          0.837467     -0.666108   0.546532  0.302383   \n",
            "4  0.807420      0.0          0.724874     -1.584982   1.974373  0.428912   \n",
            "\n",
            "   efficiency  fast_charge_speed     drive  number_of_seats  price_in_germany  \\\n",
            "0   -0.660406      -1.156524e+00  0.138088        -0.180001         -0.495080   \n",
            "1   -0.018479       2.386538e-16  0.138088        -0.180001          0.000000   \n",
            "2   -0.935518      -1.072555e+00  0.138088        -0.180001         -0.904098   \n",
            "3    1.112536       4.808680e-01 -1.148309        -0.180001          0.000000   \n",
            "4    0.623448       1.572463e+00 -1.148309        -1.207752          4.014996   \n",
            "\n",
            "   price_in_uk  price_in_us  \n",
            "0     0.000000    -0.481819  \n",
            "1    -0.849124    -0.729742  \n",
            "2    -1.076193    -0.941600  \n",
            "3     1.076867     1.067236  \n",
            "4     3.430636     3.263335  \n"
          ]
        }
      ]
    },
    {
      "cell_type": "code",
      "source": [
        "# Separate features and target\n",
        "X = ev.drop(columns=['price_in_germany'])  # Replace with the correct target column\n",
        "y = ev['price_in_germany']\n",
        "\n",
        "print(\"\\nFeatures (X):\\n\", X.head())\n",
        "print(\"\\nTarget (y):\\n\", y.head())\n"
      ],
      "metadata": {
        "colab": {
          "base_uri": "https://localhost:8080/"
        },
        "id": "JHysPP3Y0CkG",
        "outputId": "84e257bb-7403-4860-cd41-e2682f09a034"
      },
      "execution_count": null,
      "outputs": [
        {
          "output_type": "stream",
          "name": "stdout",
          "text": [
            "\n",
            "Features (X):\n",
            "        name  ev_type  battery_capacity  acceleration  top_speed     range  \\\n",
            "0  0.241266      0.0         -0.308561     -0.159143  -0.643335 -0.035028   \n",
            "1  0.847859      0.0         -1.394271      4.625341  -1.119282 -1.511199   \n",
            "2  0.180607      0.0         -1.193213      0.030969  -0.786119 -1.005083   \n",
            "3 -1.396535      0.0          0.837467     -0.666108   0.546532  0.302383   \n",
            "4  0.807420      0.0          0.724874     -1.584982   1.974373  0.428912   \n",
            "\n",
            "   efficiency  fast_charge_speed     drive  number_of_seats  price_in_uk  \\\n",
            "0   -0.660406      -1.156524e+00  0.138088        -0.180001     0.000000   \n",
            "1   -0.018479       2.386538e-16  0.138088        -0.180001    -0.849124   \n",
            "2   -0.935518      -1.072555e+00  0.138088        -0.180001    -1.076193   \n",
            "3    1.112536       4.808680e-01 -1.148309        -0.180001     1.076867   \n",
            "4    0.623448       1.572463e+00 -1.148309        -1.207752     3.430636   \n",
            "\n",
            "   price_in_us  \n",
            "0    -0.481819  \n",
            "1    -0.729742  \n",
            "2    -0.941600  \n",
            "3     1.067236  \n",
            "4     3.263335  \n",
            "\n",
            "Target (y):\n",
            " 0   -0.495080\n",
            "1    0.000000\n",
            "2   -0.904098\n",
            "3    0.000000\n",
            "4    4.014996\n",
            "Name: price_in_germany, dtype: float64\n"
          ]
        }
      ]
    },
    {
      "cell_type": "code",
      "source": [
        "from sklearn.model_selection import train_test_split\n",
        "\n",
        "# Split into training and testing sets\n",
        "x_train, x_test, y_train, y_test = train_test_split(X, y, test_size=0.2, random_state=42)\n",
        "\n",
        "print(\"\\nTraining and Testing Data Sizes:\")\n",
        "print(f\"x_train: {x_train.shape}, x_test: {x_test.shape}\")\n",
        "print(f\"y_train: {y_train.shape}, y_test: {y_test.shape}\")\n"
      ],
      "metadata": {
        "colab": {
          "base_uri": "https://localhost:8080/"
        },
        "id": "CmMnSDrY0FHZ",
        "outputId": "926b92e5-22b8-44a7-f1cc-6234e4a35dd9"
      },
      "execution_count": null,
      "outputs": [
        {
          "output_type": "stream",
          "name": "stdout",
          "text": [
            "\n",
            "Training and Testing Data Sizes:\n",
            "x_train: (141, 12), x_test: (36, 12)\n",
            "y_train: (141,), y_test: (36,)\n"
          ]
        }
      ]
    },
    {
      "cell_type": "code",
      "source": [
        "from sklearn.linear_model import LinearRegression\n",
        "from sklearn.metrics import mean_absolute_error, mean_squared_error, r2_score\n",
        "\n",
        "# Train Linear Regression Model\n",
        "linear_model = LinearRegression()\n",
        "linear_model.fit(x_train, y_train)\n",
        "\n",
        "# Make Predictions\n",
        "y_pred = linear_model.predict(x_test)\n",
        "\n",
        "# Evaluate Model\n",
        "mae = mean_absolute_error(y_test, y_pred)\n",
        "mse = mean_squared_error(y_test, y_pred)\n",
        "rmse = np.sqrt(mse)\n",
        "r2 = r2_score(y_test, y_pred)\n",
        "\n",
        "# Print Metrics\n",
        "print(\"\\nLinear Regression Metrics:\")\n",
        "print(f\"Mean Absolute Error (MAE): {mae:.3f}\")\n",
        "print(f\"Mean Squared Error (MSE): {mse:.3f}\")\n",
        "print(f\"Root Mean Squared Error (RMSE): {rmse:.3f}\")\n",
        "print(f\"R2 Score: {r2:.3f}\")\n"
      ],
      "metadata": {
        "colab": {
          "base_uri": "https://localhost:8080/"
        },
        "id": "nvGMj5eZ0JJu",
        "outputId": "34d19674-29e0-449c-d8e9-969e7d8f9843"
      },
      "execution_count": null,
      "outputs": [
        {
          "output_type": "stream",
          "name": "stdout",
          "text": [
            "\n",
            "Linear Regression Metrics:\n",
            "Mean Absolute Error (MAE): 0.127\n",
            "Mean Squared Error (MSE): 0.034\n",
            "Root Mean Squared Error (RMSE): 0.183\n",
            "R2 Score: 0.973\n"
          ]
        }
      ]
    },
    {
      "cell_type": "code",
      "source": [
        "from sklearn.ensemble import RandomForestRegressor\n",
        "from sklearn.tree import DecisionTreeRegressor\n",
        "from sklearn.svm import SVR\n",
        "\n",
        "# Initialize models\n",
        "models = {\n",
        "    \"Linear Regression\": LinearRegression(),\n",
        "    \"Random Forest\": RandomForestRegressor(),\n",
        "    \"Decision Tree\": DecisionTreeRegressor(),\n",
        "    \"Support Vector Regressor (SVR)\": SVR()\n",
        "}\n",
        "\n",
        "# Train and evaluate each model\n",
        "results = {}\n",
        "for name, model in models.items():\n",
        "    model.fit(x_train, y_train)\n",
        "    y_pred = model.predict(x_test)\n",
        "\n",
        "    # Calculate metrics\n",
        "    mae = mean_absolute_error(y_test, y_pred)\n",
        "    mse = mean_squared_error(y_test, y_pred)\n",
        "    rmse = np.sqrt(mse)\n",
        "    r2 = r2_score(y_test, y_pred)\n",
        "\n",
        "    results[name] = {\n",
        "        \"MAE\": mae,\n",
        "        \"MSE\": mse,\n",
        "        \"RMSE\": rmse,\n",
        "        \"R2\": r2\n",
        "    }\n",
        "\n",
        "# Display results for all models\n",
        "print(\"\\nModel Comparison:\")\n",
        "for model_name, metrics in results.items():\n",
        "    print(f\"\\n{model_name}:\")\n",
        "    for metric_name, value in metrics.items():\n",
        "        print(f\"{metric_name}: {value:.3f}\")\n"
      ],
      "metadata": {
        "colab": {
          "base_uri": "https://localhost:8080/"
        },
        "id": "Oo9MKWB20NOp",
        "outputId": "1bcf06bd-5276-4d9d-e382-19a92ecab25d"
      },
      "execution_count": null,
      "outputs": [
        {
          "output_type": "stream",
          "name": "stdout",
          "text": [
            "\n",
            "Model Comparison:\n",
            "\n",
            "Linear Regression:\n",
            "MAE: 0.127\n",
            "MSE: 0.034\n",
            "RMSE: 0.183\n",
            "R2: 0.973\n",
            "\n",
            "Random Forest:\n",
            "MAE: 0.239\n",
            "MSE: 0.203\n",
            "RMSE: 0.451\n",
            "R2: 0.834\n",
            "\n",
            "Decision Tree:\n",
            "MAE: 0.211\n",
            "MSE: 0.161\n",
            "RMSE: 0.401\n",
            "R2: 0.868\n",
            "\n",
            "Support Vector Regressor (SVR):\n",
            "MAE: 0.312\n",
            "MSE: 0.739\n",
            "RMSE: 0.860\n",
            "R2: 0.396\n"
          ]
        }
      ]
    },
    {
      "cell_type": "code",
      "source": [
        "import matplotlib.pyplot as plt\n",
        "import seaborn as sns\n",
        "\n",
        "# Create a results DataFrame\n",
        "Results = pd.DataFrame({'Actual': y_test, 'Predicted': y_pred})\n",
        "\n",
        "# Scatter plot for Actual vs Predicted\n",
        "plt.figure(figsize=(8, 6))\n",
        "plt.scatter(Results['Actual'], Results['Predicted'], color='blue', alpha=0.6)\n",
        "plt.title(\"Actual vs Predicted Prices\")\n",
        "plt.xlabel(\"Actual Prices\")\n",
        "plt.ylabel(\"Predicted Prices\")\n",
        "plt.plot([Results['Actual'].min(), Results['Actual'].max()],\n",
        "         [Results['Actual'].min(), Results['Actual'].max()], color='red')\n",
        "plt.show()\n",
        "\n",
        "# Error Distribution\n",
        "errors = Results['Actual'] - Results['Predicted']\n",
        "sns.histplot(errors, kde=True, color='green')\n",
        "plt.title(\"Error Distribution\")\n",
        "plt.xlabel(\"Error (Actual - Predicted)\")\n",
        "plt.show()\n"
      ],
      "metadata": {
        "colab": {
          "base_uri": "https://localhost:8080/",
          "height": 1000
        },
        "id": "tEnX80V60TMr",
        "outputId": "c69e2d94-adf2-4510-fc4d-1c1e8f17cfde"
      },
      "execution_count": null,
      "outputs": [
        {
          "output_type": "display_data",
          "data": {
            "text/plain": [
              "<Figure size 800x600 with 1 Axes>"
            ],
            "image/png": "[encoded data removed]"
          },
          "metadata": {}
        },
        {
          "output_type": "display_data",
          "data": {
            "text/plain": [
              "<Figure size 640x480 with 1 Axes>"
            ],
            "image/png": "[encoded data removed]"
          },
          "metadata": {}
        }
      ]
    },
    {
      "cell_type": "code",
      "source": [
        "import numpy as np\n",
        "from sklearn.metrics import mean_absolute_error, mean_squared_error, r2_score\n",
        "from sklearn.model_selection import GridSearchCV, RandomizedSearchCV\n",
        "# Correct imports\n",
        "from sklearn.linear_model import Ridge, LinearRegression\n",
        "from sklearn.ensemble import RandomForestRegressor\n",
        "from sklearn.tree import DecisionTreeRegressor\n",
        "from sklearn.svm import SVR\n",
        "\n",
        "\n",
        "# Define models and their hyperparameter grids\n",
        "models = {\n",
        "    'Linear Regression (Ridge)': {\n",
        "        'model': Ridge(),\n",
        "        'params': {\n",
        "            'alpha': [0.1, 1, 10, 100]\n",
        "        }\n",
        "    },\n",
        "    'Random Forest': {\n",
        "        'model': RandomForestRegressor(random_state=42),\n",
        "        'params': {\n",
        "            'n_estimators': [50, 100, 200],\n",
        "            'max_depth': [None, 10, 20, 30],\n",
        "            'min_samples_split': [2, 5, 10],\n",
        "            'min_samples_leaf': [1, 2, 4]\n",
        "        }\n",
        "    },\n",
        "    'Decision Tree': {\n",
        "        'model': DecisionTreeRegressor(random_state=42),\n",
        "        'params': {\n",
        "            'max_depth': [None, 10, 20, 30],\n",
        "            'min_samples_split': [2, 5, 10],\n",
        "            'min_samples_leaf': [1, 2, 4]\n",
        "        }\n",
        "    },\n",
        "    'Support Vector Regressor (SVR)': {\n",
        "        'model': SVR(),\n",
        "        'params': {\n",
        "            'kernel': ['linear', 'rbf', 'poly'],\n",
        "            'C': [0.1, 1, 10, 100],\n",
        "            'epsilon': [0.1, 0.2, 0.5, 1]\n",
        "        }\n",
        "    }\n",
        "}\n",
        "\n",
        "# ... (rest of your code)\n",
        "\n",
        "\n",
        "# Results dictionary to store evaluation metrics\n",
        "results = {}\n",
        "\n",
        "# Loop through models and perform hyperparameter tuning\n",
        "for model_name, model_info in models.items():\n",
        "    print(f\"Tuning {model_name}...\")\n",
        "\n",
        "    # Use GridSearchCV or RandomizedSearchCV\n",
        "    grid = GridSearchCV(\n",
        "        estimator=model_info['model'],\n",
        "        param_grid=model_info['params'],\n",
        "        scoring='r2',\n",
        "        cv=5,\n",
        "        verbose=1\n",
        "    )\n",
        "    grid.fit(x_train, y_train)\n",
        "\n",
        "    # Best model and its performance\n",
        "    best_model = grid.best_estimator_\n",
        "    y_pred = best_model.predict(x_test)\n",
        "\n",
        "    # Store metrics\n",
        "    metrics = {\n",
        "        'Best Parameters': grid.best_params_,\n",
        "        'MAE': mean_absolute_error(y_test, y_pred),\n",
        "        'MSE': mean_squared_error(y_test, y_pred),\n",
        "        'RMSE': np.sqrt(mean_squared_error(y_test, y_pred)),\n",
        "        'R²': r2_score(y_test, y_pred)\n",
        "    }\n",
        "    results[model_name] = metrics\n",
        "\n",
        "    print(f\"Finished tuning {model_name}.\\n\")\n",
        "\n",
        "# Print all results\n",
        "print(\"Model Performance Summary:\")\n",
        "for model_name, metrics in results.items():\n",
        "    print(f\"\\n{model_name}:\")\n",
        "    for metric, value in metrics.items():\n",
        "        print(f\"{metric}: {value}\")\n"
      ],
      "metadata": {
        "colab": {
          "base_uri": "https://localhost:8080/"
        },
        "id": "z5dcWOpd1F9p",
        "outputId": "2210bd48-76ed-47e2-b855-94d40e85acf3"
      },
      "execution_count": null,
      "outputs": [
        {
          "output_type": "stream",
          "name": "stdout",
          "text": [
            "Tuning Linear Regression (Ridge)...\n",
            "Fitting 5 folds for each of 4 candidates, totalling 20 fits\n",
            "Finished tuning Linear Regression (Ridge).\n",
            "\n",
            "Tuning Random Forest...\n",
            "Fitting 5 folds for each of 108 candidates, totalling 540 fits\n",
            "Finished tuning Random Forest.\n",
            "\n",
            "Tuning Decision Tree...\n",
            "Fitting 5 folds for each of 36 candidates, totalling 180 fits\n",
            "Finished tuning Decision Tree.\n",
            "\n",
            "Tuning Support Vector Regressor (SVR)...\n",
            "Fitting 5 folds for each of 48 candidates, totalling 240 fits\n",
            "Finished tuning Support Vector Regressor (SVR).\n",
            "\n",
            "Model Performance Summary:\n",
            "\n",
            "Linear Regression (Ridge):\n",
            "Best Parameters: {'alpha': 1}\n",
            "MAE: 0.11622968429597459\n",
            "MSE: 0.02781431783112709\n",
            "RMSE: 0.16677625080066732\n",
            "R²: 0.9772486521918016\n",
            "\n",
            "Random Forest:\n",
            "Best Parameters: {'max_depth': None, 'min_samples_leaf': 1, 'min_samples_split': 2, 'n_estimators': 200}\n",
            "MAE: 0.2296212193136206\n",
            "MSE: 0.18280845509153065\n",
            "RMSE: 0.4275610542267977\n",
            "R²: 0.8504677062612572\n",
            "\n",
            "Decision Tree:\n",
            "Best Parameters: {'max_depth': None, 'min_samples_leaf': 2, 'min_samples_split': 5}\n",
            "MAE: 0.1855746981356276\n",
            "MSE: 0.12169099555953193\n",
            "RMSE: 0.34884236491506004\n",
            "R²: 0.900460109001758\n",
            "\n",
            "Support Vector Regressor (SVR):\n",
            "Best Parameters: {'C': 1, 'epsilon': 0.1, 'kernel': 'linear'}\n",
            "MAE: 0.12047316830037524\n",
            "MSE: 0.028780945026155177\n",
            "RMSE: 0.16964947694041138\n",
            "R²: 0.9764579777036306\n"
          ]
        }
      ]
    },
    {
      "cell_type": "code",
      "source": [
        "from joblib import dump\n",
        "dump(best_model, 'best_model.pkl')\n"
      ],
      "metadata": {
        "colab": {
          "base_uri": "https://localhost:8080/"
        },
        "id": "L91oZYbH363-",
        "outputId": "ada1f462-bdcb-4d81-ab9f-5a39e26b69a2"
      },
      "execution_count": null,
      "outputs": [
        {
          "output_type": "execute_result",
          "data": {
            "text/plain": [
              "['best_model.pkl']"
            ]
          },
          "metadata": {},
          "execution_count": 14
        }
      ]
    }
  ]
}